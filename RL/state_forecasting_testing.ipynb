{
 "cells": [
  {
   "cell_type": "code",
   "execution_count": 1,
   "metadata": {},
   "outputs": [],
   "source": [
    "import tensorflow as tf\n",
    "from tensorflow.keras.layers import Dense, Flatten, Conv2D\n",
    "from tensorflow.keras import Model\n",
    "from tqdm.notebook import tqdm\n",
    "import numpy as np\n",
    "from matplotlib import pyplot as plt\n",
    "import modelutils_v2 as modelutils\n",
    "import copy"
   ]
  },
  {
   "cell_type": "code",
   "execution_count": 2,
   "metadata": {},
   "outputs": [],
   "source": [
    "def div0( self,a, b ):\n",
    "    \"\"\" ignore / 0, div0( [-1, 0, 1], 0 ) -> [0, 0, 0]\n",
    "    MOVE ME OUT TO THE GLOBAL SCOPE\n",
    "    \"\"\"\n",
    "    with np.errstate(divide='ignore', invalid='ignore'):\n",
    "        c = np.true_divide( a, b )\n",
    "        c[ ~ np.isfinite( c )] = 0  # -inf inf NaN\n",
    "    return c\n",
    "\n",
    "npeople = 100\n",
    "tsteps = 14\n",
    "ax=None\n",
    "ntrials = 30\n",
    "action = None\n",
    "nlocations = 10\n",
    "ntests=10\n",
    "\n",
    "\n",
    "ff = 40*[100]+10*[100]\n",
    "lambda_ = 40*[5e-3]+ 10*[1e-2]\n",
    "homelocs = np.zeros([nlocations,npeople])\n",
    "for person_idx in range(npeople):\n",
    "    homelocs[np.random.choice(np.arange(nlocations)),person_idx]=1.\n",
    "\n",
    "init_state = modelutils.state(homelocs,quarantine=True)#lambda_=lambda_) \n",
    "\n",
    "#temporarily endow \"full knowledge\" FOR DEBUGGING ONLY. Does feeding in the actual hidden state as the partially-observed state fix things?\n",
    "init_state.action = np.ones(npeople)"
   ]
  },
  {
   "cell_type": "code",
   "execution_count": 3,
   "metadata": {},
   "outputs": [
    {
     "name": "stdout",
     "output_type": "stream",
     "text": [
      "Trial  999 / 999\r"
     ]
    }
   ],
   "source": [
    "forecast_output = init_state.forecast_v2(ntrials=1000)"
   ]
  },
  {
   "cell_type": "code",
   "execution_count": 5,
   "metadata": {},
   "outputs": [
    {
     "data": {
      "image/png": "[encoded data removed]",
      "text/plain": [
       "<Figure size 432x288 with 1 Axes>"
      ]
     },
     "metadata": {
      "needs_background": "light"
     },
     "output_type": "display_data"
    }
   ],
   "source": [
    "txn_probs = []\n",
    "obs_freqs = []  #the lists to hold the x-y values we're plotting against\n",
    "\n",
    "for person_idx in range(npeople):\n",
    "    partial_txn_mat = np.squeeze(forecast_output[0][person_idx])\n",
    "    actual_txn_mat = forecast_output[1][person_idx]\n",
    "    \n",
    "    nonzero_indices = np.where(np.sum(partial_txn_mat,axis=-1)!=0)[0]\n",
    "    partial_txn_mat[nonzero_indices,:] = np.squeeze(np.divide(partial_txn_mat[nonzero_indices,:],np.expand_dims(np.sum(partial_txn_mat[nonzero_indices,:],axis=-1),axis=-1))[:,None])\n",
    "    \n",
    "    \n",
    "    txn_probs+=list(actual_txn_mat[nonzero_indices,:].flatten())\n",
    "    obs_freqs+=list(partial_txn_mat[nonzero_indices,:].flatten())\n",
    "    \n",
    "\n",
    "    \n",
    "\n",
    "plt.plot(txn_probs,obs_freqs,'*b',alpha=0.25)\n",
    "plt.xlabel('transition probabilities')\n",
    "plt.ylabel('observed frequencies')\n",
    "plt.plot(np.linspace(0,1,100),np.linspace(0,1,100),'-r')\n",
    "plt.savefig('forecast.png')"
   ]
  },
  {
   "cell_type": "code",
   "execution_count": null,
   "metadata": {},
   "outputs": [],
   "source": []
  }
 ],
 "metadata": {
  "kernelspec": {
   "display_name": "Python 3",
   "language": "python",
   "name": "python3"
  },
  "language_info": {
   "codemirror_mode": {
    "name": "ipython",
    "version": 3
   },
   "file_extension": ".py",
   "mimetype": "text/x-python",
   "name": "python",
   "nbconvert_exporter": "python",
   "pygments_lexer": "ipython3",
   "version": "3.7.7"
  }
 },
 "nbformat": 4,
 "nbformat_minor": 4
}
