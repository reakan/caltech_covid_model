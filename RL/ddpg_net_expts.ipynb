{
 "cells": [
  {
   "cell_type": "code",
   "execution_count": 1,
   "metadata": {},
   "outputs": [],
   "source": [
    "import tensorflow as tf\n",
    "from tensorflow.keras.layers import Dense, Flatten, Conv2D\n",
    "from tensorflow.keras import Model\n",
    "from tqdm.notebook import tqdm\n",
    "import numpy as np\n",
    "from matplotlib import pyplot as plt\n",
    "import modelutils_v2 as modelutils\n",
    "import copy"
   ]
  },
  {
   "cell_type": "code",
   "execution_count": 2,
   "metadata": {},
   "outputs": [],
   "source": [
    "npeople = 50\n",
    "tsteps = 14\n",
    "ax=None\n",
    "ntrials = 5\n",
    "action = None\n",
    "nlocations = 10\n",
    "ntests=5\n",
    "\n",
    "\n",
    "#ff = 40*[1000]+10*[1]\n",
    "#ff=None\n",
    "lambda_ = 40*[3e-3]+ 10*[1e-2]\n",
    "homelocs = np.zeros([nlocations,npeople])\n",
    "for person_idx in range(npeople):\n",
    "    homelocs[np.random.choice(np.arange(nlocations)),person_idx]=1.\n",
    "\n",
    "init_state = modelutils.state(homelocs) "
   ]
  },
  {
   "cell_type": "code",
   "execution_count": null,
   "metadata": {},
   "outputs": [
    {
     "name": "stdout",
     "output_type": "stream",
     "text": [
      "Forecasting trial:  125 / 1000 5 / 10001000 738 / 1000 890 / 1000\r"
     ]
    }
   ],
   "source": [
    "init_state = modelutils.state(homelocs,lambda_=lambda_)\n",
    "\n",
    "action_random = init_state.random_action(ntests)\n",
    "action_greedy = init_state.greedy_action(ntests)\n",
    "\n",
    "random_series = []\n",
    "greedy_series = []\n",
    "\n",
    "greedy_history = []\n",
    "random_history = []  #stores history of testing actions; to check if any individuals are \"preferred\"\n",
    "\n",
    "for _ in range(ntrials):\n",
    "    #print('Trial: ',_,end='\\r')\n",
    "    states_random = [copy.deepcopy(init_state)]\n",
    "    states_greedy = [copy.deepcopy(init_state)]\n",
    "    \n",
    "    for time_idx in range(tsteps-1):\n",
    "        print('Trial: ',_,'/ Time: ',time_idx,end='\\r')\n",
    "        states_random.append(states_random[-1].update_state(action_random))\n",
    "        states_greedy.append(states_greedy[-1].update_state(action_greedy))\n",
    "        \n",
    "        action_random = states_random[-1].random_action(ntests=ntests)\n",
    "        action_greedy = states_greedy[-1].greedy_action(ntests=ntests)\n",
    "        \n",
    "        greedy_history += list(np.where(action_greedy==1)[0])\n",
    "        random_history += list(np.where(action_random==1)[0])\n",
    "        \n",
    "    random_series.append(modelutils.gen_plotmat(states_random))\n",
    "    greedy_series.append(modelutils.gen_plotmat(states_greedy))\n",
    "    \n",
    "random_percentiles = modelutils.gen_percentiles(random_series)\n",
    "greedy_percentiles = modelutils.gen_percentiles(greedy_series)\n",
    "\n",
    "fig,ax = plt.subplots(figsize=(20,10),ncols=2)\n",
    "ax[0] = modelutils.plot_percentiles(random_percentiles,random_series,ax[0])\n",
    "ax[0].set_title('Random Testing')\n",
    "ax[1] = modelutils.plot_percentiles(greedy_percentiles,greedy_series,ax[1])\n",
    "ax[1].set_title('Greedy Testing')\n",
    "plt.savefig('greedy_policy1.png')"
   ]
  },
  {
   "cell_type": "code",
   "execution_count": null,
   "metadata": {},
   "outputs": [],
   "source": [
    "fig,ax = plt.subplots(ncols=2,figsize=(20,7))\n",
    "\n",
    "_=ax[0].hist(random_history,edgecolor='black',bins=npeople)\n",
    "_=ax[1].hist(greedy_history,edgecolor='black',bins=npeople)\n",
    "\n",
    "ax2 = ax[1].twinx()\n",
    "ax2.plot(np.arange(npeople),lambda_,'-r')\n",
    "\n",
    "ax2.set_ylabel('Sensitivity')\n",
    "ax[0].set_xlabel('Person Idx')\n",
    "ax[1].set_xlabel('Person Idx')\n",
    "ax[0].set_ylabel('Number of Tests Over MC Trials')\n",
    "ax[1].set_ylabel('Number of Tests Over MC Trials')\n",
    "ax[0].set_title('Random Testing')\n",
    "ax[1].set_title('Greedy Testing')\n",
    "plt.savefig('action_history1.png')"
   ]
  }
 ],
 "metadata": {
  "kernelspec": {
   "display_name": "Python 3",
   "language": "python",
   "name": "python3"
  },
  "language_info": {
   "codemirror_mode": {
    "name": "ipython",
    "version": 3
   },
   "file_extension": ".py",
   "mimetype": "text/x-python",
   "name": "python",
   "nbconvert_exporter": "python",
   "pygments_lexer": "ipython3",
   "version": "3.7.7"
  }
 },
 "nbformat": 4,
 "nbformat_minor": 4
}
