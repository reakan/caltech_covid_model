{
 "cells": [
  {
   "cell_type": "code",
   "execution_count": 1,
   "metadata": {},
   "outputs": [],
   "source": [
    "import numpy as np\n",
    "from matplotlib import pyplot as plt\n",
    "import pandas as pd\n",
    "from scipy import stats as st\n",
    "import itertools as it\n",
    "from tqdm import notebook as tqdm\n",
    "from matplotlib.animation import FuncAnimation\n",
    "import random,os\n",
    "import multiprocessing as mp\n",
    "import modelutils\n",
    "plt.ion()"
   ]
  },
  {
   "cell_type": "code",
   "execution_count": 2,
   "metadata": {},
   "outputs": [],
   "source": [
    "npeople=60\n",
    "ndays=21\n",
    "ntrials = 5 #number of trials used to construct confidence intervals\n",
    "locations=['Broad','Moore','Watson','Beckman','Noyes','Braun','Schlinger','Kerckhoff','Spalding','Chandler']"
   ]
  },
  {
   "cell_type": "code",
   "execution_count": 3,
   "metadata": {},
   "outputs": [
    {
     "data": {
      "application/vnd.jupyter.widget-view+json": {
       "model_id": "d5b3b34a83c6468e91c2f140b36ba925",
       "version_major": 2,
       "version_minor": 0
      },
      "text/plain": [
       "HBox(children=(FloatProgress(value=0.0, description='Running Simulation', max=20.0, style=ProgressStyle(descri…"
      ]
     },
     "metadata": {},
     "output_type": "display_data"
    },
    {
     "name": "stdout",
     "output_type": "stream",
     "text": [
      "\n"
     ]
    }
   ],
   "source": [
    "agent_locations,agent_states = modelutils.run_simulation(ndays,\n",
    "                                                         npeople,\n",
    "                                                         locations,\n",
    "                                                         loctmats = [modelutils.loc_tmat(np.random.choice(np.arange(len(locations)-1)),totallocs=len(locations)-1,ff = x) for x in np.logspace(0,2,npeople)])\n",
    "#agent_locations_nolunch,agent_states_nolunch = modelutils.run_simulation(ndays,npeople,locations,testsperday=0)  #the simulation will never hit this counter value"
   ]
  },
  {
   "cell_type": "code",
   "execution_count": 4,
   "metadata": {},
   "outputs": [
    {
     "data": {
      "application/vnd.jupyter.widget-view+json": {
       "model_id": "6e40aff9bf784aa3a955e66b3292794e",
       "version_major": 2,
       "version_minor": 0
      },
      "text/plain": [
       "HBox(children=(FloatProgress(value=0.0), HTML(value='')))"
      ]
     },
     "metadata": {},
     "output_type": "display_data"
    },
    {
     "name": "stdout",
     "output_type": "stream",
     "text": [
      "MC Trial:  99 / 100\n"
     ]
    }
   ],
   "source": [
    "forecast_output = modelutils.forecast(100,agent_locations[-96:,...],locations,agent_states[0,...],np.ones(len(locations)))"
   ]
  },
  {
   "cell_type": "code",
   "execution_count": 14,
   "metadata": {},
   "outputs": [
    {
     "data": {
      "image/png": "[encoded data removed]",
      "text/plain": [
       "<Figure size 1440x720 with 2 Axes>"
      ]
     },
     "metadata": {
      "needs_background": "light"
     },
     "output_type": "display_data"
    }
   ],
   "source": [
    "forecast_output.shape\n",
    "\n",
    "fig,ax = plt.subplots(ncols=2,figsize=(20,10))\n",
    "\n",
    "exposure_score = np.sum(forecast_output[3:6,:],axis=0)\n",
    "forecast_output_sorted = forecast_output[:,np.flip(np.argsort(exposure_score))]\n",
    "exposure_score_sorted = np.flip(np.sort(exposure_score))\n",
    "\n",
    "ax[0].imshow(forecast_output_sorted)\n",
    "ax[0].set_xlabel('Rank')\n",
    "ax[0].set_ylabel('State Index')\n",
    "ax[1].plot(exposure_score_sorted,'*b')\n",
    "ax[1].set_ylabel('Cumulative Exposure Probability')\n",
    "ax[1].set_xlabel('Rank')\n",
    "plt.savefig('forecast_fig.png')"
   ]
  },
  {
   "cell_type": "code",
   "execution_count": 6,
   "metadata": {},
   "outputs": [],
   "source": [
    "# #UNCOMMENT FOR MOVEMENT DEMO\n",
    "\n",
    "# ############################################################################\n",
    "\n",
    "\n",
    "# def num2titlestr(n):\n",
    "#     day = n//96\n",
    "#     day_rem = n % 96\n",
    "#     hours = day_rem // 12\n",
    "    \n",
    "#     fmt_hours = 9 + hours\n",
    "#     if fmt_hours>12:\n",
    "#         fmt_hours+=-12\n",
    "#     fmt_hours= str(fmt_hours)\n",
    "#     if len(fmt_hours)!=2:\n",
    "#         fmt_hours = '0'+fmt_hours\n",
    "    \n",
    "#     hour_rem = day_rem % 12\n",
    "#     minutes = hour_rem * 5\n",
    "#     fmt_minutes = str(minutes)\n",
    "#     if len(fmt_minutes) != 2:\n",
    "#         fmt_minutes = '0'+fmt_minutes\n",
    "#     return 'Day: '+str(day)+' / '+ fmt_hours+':'+fmt_minutes\n",
    "\n",
    "\n",
    "# fig,ax = plt.subplots(figsize=[10,10])\n",
    "# skip=12\n",
    "\n",
    "\n",
    "\n",
    "\n",
    "# def update(i,skip=skip):\n",
    "#     print('Step: ',i,' / ',agent_locations.shape[0],end='\\r')\n",
    "    \n",
    "        \n",
    "#     plot_indices = np.arange(0,i,step=skip)\n",
    "        \n",
    "#     ax.clear()\n",
    "\n",
    "#     ax.set_title(num2titlestr(i))\n",
    "    \n",
    "    \n",
    "#     disease_states = np.squeeze(agent_states[i//96,:,:])  #we need to \"compress this one hot matrix (one hot along columns)\"\n",
    "#     disease_states = np.array([np.where(disease_states[:,x]==1)[0] for x in range(disease_states.shape[1])])\n",
    "         \n",
    "#     modelutils.draw_campus(agent_locations[i,:],disease_states,ax)\n",
    "#     ax.axis('off')\n",
    "\n",
    "    \n",
    "\n",
    "\n",
    "    \n",
    "\n",
    "\n",
    "# anim = FuncAnimation(fig, update, frames=np.arange(0,agent_locations.shape[0],skip), interval=200,repeat_delay=1000)\n",
    "\n",
    "# anim.save('200707_movement.gif', dpi=80, writer='imagemagick')\n",
    "# print('GIF Finished!')"
   ]
  },
  {
   "cell_type": "code",
   "execution_count": null,
   "metadata": {},
   "outputs": [],
   "source": []
  }
 ],
 "metadata": {
  "kernelspec": {
   "display_name": "Python 3",
   "language": "python",
   "name": "python3"
  },
  "language_info": {
   "codemirror_mode": {
    "name": "ipython",
    "version": 3
   },
   "file_extension": ".py",
   "mimetype": "text/x-python",
   "name": "python",
   "nbconvert_exporter": "python",
   "pygments_lexer": "ipython3",
   "version": "3.7.7"
  }
 },
 "nbformat": 4,
 "nbformat_minor": 4
}
